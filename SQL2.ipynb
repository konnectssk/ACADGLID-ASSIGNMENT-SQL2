{
 "cells": [
  {
   "cell_type": "code",
   "execution_count": 10,
   "metadata": {},
   "outputs": [
    {
     "name": "stdout",
     "output_type": "stream",
     "text": [
      "immutabledict({})\n",
      "immutabledict({'adult_tbl': Table('adult_tbl', MetaData(bind=None), Column('age', INTEGER(), table=<adult_tbl>), Column('workclass', TEXT(), table=<adult_tbl>), Column('fnlwgt', INTEGER(), table=<adult_tbl>), Column('education', TEXT(), table=<adult_tbl>), Column('education-num', INTEGER(), table=<adult_tbl>), Column('marital-status', TEXT(), table=<adult_tbl>), Column('occupation', TEXT(), table=<adult_tbl>), Column('relationship', TEXT(), table=<adult_tbl>), Column('race', TEXT(), table=<adult_tbl>), Column('sex', TEXT(), table=<adult_tbl>), Column('capital-gain', INTEGER(), table=<adult_tbl>), Column('capital-loss', INTEGER(), table=<adult_tbl>), Column('hours-per-week', INTEGER(), table=<adult_tbl>), Column('native-country', TEXT(), table=<adult_tbl>), Column('income', TEXT(), table=<adult_tbl>), schema=None)})\n",
      "adult_tbl\n"
     ]
    }
   ],
   "source": [
    "# Task 1: Create an sqlalchemy engine using a sample from the data set\n",
    "\n",
    "from sqlalchemy import create_engine\n",
    "from sqlalchemy import MetaData\n",
    "from sqlalchemy import Table\n",
    "from sqlalchemy.orm import sessionmaker\n",
    "from sqlalchemy.ext.declarative import declarative_base\n",
    "db_uri = \"sqlite:///adult.db\"\n",
    "engine = create_engine(db_uri)\n",
    "metadata = MetaData()\n",
    "print(metadata.tables)\n",
    "metadata.reflect(bind=engine)\n",
    "print(metadata.tables)\n",
    "ex_table = metadata.tables['adult_tbl']\n",
    "print(ex_table)\n",
    "Session = sessionmaker()\n",
    "Session.configure(bind=engine)\n",
    "session = Session()"
   ]
  },
  {
   "cell_type": "code",
   "execution_count": 4,
   "metadata": {},
   "outputs": [
    {
     "data": {
      "text/plain": [
       "[(40, 'State-gov', 77516, 'Bachelors', 13, 'Never-married', 'Adm-clerical', 'Not-in-family', 'White', 'Male', 2174, 0, 40, 'United-States', '<=50K'),\n",
       " (50, 'Self-emp-not-inc', 83311, 'Bachelors', 13, 'Married-civ-spouse', 'Exec-managerial', 'Husband', 'White', 'Male', 0, 0, 13, 'United-States', '<=50K'),\n",
       " (38, 'Private', 215646, 'HS-grad', 9, 'Divorced', 'Handlers-cleaners', 'Not-in-family', 'White', 'Male', 0, 0, 40, 'United-States', '<=50K'),\n",
       " (53, 'Private', 234721, '11th', 7, 'Married-civ-spouse', 'Handlers-cleaners', 'Husband', 'Black', 'Male', 0, 0, 40, 'United-States', '<=50K'),\n",
       " (28, 'Private', 338409, 'Bachelors', 13, 'Married-civ-spouse', 'Prof-specialty', 'Wifi', 'Black', 'Female', 0, 0, 40, 'Cuba', '<=50K'),\n",
       " (37, 'Private', 284582, 'Masters', 14, 'Married-civ-spouse', 'Exec-managerial', 'Wifi', 'White', 'Female', 0, 0, 40, 'United-States', '<=50K'),\n",
       " (49, 'Private', 160187, '9th', 5, 'Married-spouse-absent', 'Other-service', 'Not-in-family', 'Black', 'Female', 0, 0, 16, 'Jamaica', '<=50K'),\n",
       " (52, 'Self-emp-not-inc', 209642, 'HS-grad', 9, 'Married-civ-spouse', 'Exec-managerial', 'Husband', 'White', 'Male', 0, 0, 45, 'United-States', '>50K'),\n",
       " (31, 'Private', 45781, 'Masters', 14, 'Never-married', 'Prof-specialty', 'Not-in-family', 'White', 'Female', 14084, 0, 50, 'United-States', '>50K'),\n",
       " (42, 'Private', 159449, 'Bachelors', 13, 'Married-civ-spouse', 'Exec-managerial', 'Husband', 'White', 'Male', 5178, 0, 40, 'United-States', '>50K')]"
      ]
     },
     "metadata": {},
     "output_type": "display_data"
    }
   ],
   "source": [
    "#Task 2: Write two basic update queries\n",
    "from sqlalchemy.sql import select\n",
    "from sqlalchemy import update\n",
    "connection = engine.connect()\n",
    "u = update(ex_table, ex_table.c.age=='39')\n",
    "connection.execute(u, age=\"40\")\n",
    "u = update(ex_table, ex_table.c.relationship=='Wife')\n",
    "connection.execute(u, relationship='Wifi')\n",
    "s = select([ex_table])\n",
    "result=connection.execute(s)\n",
    "display(result.fetchmany(10))\n",
    "connection.close()"
   ]
  },
  {
   "cell_type": "code",
   "execution_count": 5,
   "metadata": {},
   "outputs": [
    {
     "data": {
      "text/plain": [
       "[(50, 'Self-emp-not-inc', 83311, 'Bachelors', 13, 'Married-civ-spouse', 'Exec-managerial', 'Husband', 'White', 'Male', 0, 0, 13, 'United-States', '<=50K'),\n",
       " (38, 'Private', 215646, 'HS-grad', 9, 'Divorced', 'Handlers-cleaners', 'Not-in-family', 'White', 'Male', 0, 0, 40, 'United-States', '<=50K'),\n",
       " (53, 'Private', 234721, '11th', 7, 'Married-civ-spouse', 'Handlers-cleaners', 'Husband', 'Black', 'Male', 0, 0, 40, 'United-States', '<=50K'),\n",
       " (49, 'Private', 160187, '9th', 5, 'Married-spouse-absent', 'Other-service', 'Not-in-family', 'Black', 'Female', 0, 0, 16, 'Jamaica', '<=50K'),\n",
       " (52, 'Self-emp-not-inc', 209642, 'HS-grad', 9, 'Married-civ-spouse', 'Exec-managerial', 'Husband', 'White', 'Male', 0, 0, 45, 'United-States', '>50K'),\n",
       " (31, 'Private', 45781, 'Masters', 14, 'Never-married', 'Prof-specialty', 'Not-in-family', 'White', 'Female', 14084, 0, 50, 'United-States', '>50K'),\n",
       " (42, 'Private', 159449, 'Bachelors', 13, 'Married-civ-spouse', 'Exec-managerial', 'Husband', 'White', 'Male', 5178, 0, 40, 'United-States', '>50K'),\n",
       " (37, 'Private', 280464, 'Some-college', 10, 'Married-civ-spouse', 'Exec-managerial', 'Husband', 'Black', 'Male', 0, 0, 80, 'United-States', '>50K'),\n",
       " (30, 'State-gov', 141297, 'Bachelors', 13, 'Married-civ-spouse', 'Prof-specialty', 'Husband', 'Asian-Pac-Islander', 'Male', 0, 0, 40, 'India', '>50K'),\n",
       " (23, 'Private', 122272, 'Bachelors', 13, 'Never-married', 'Adm-clerical', 'Own-child', 'White', 'Female', 0, 0, 30, 'United-States', '<=50K')]"
      ]
     },
     "metadata": {},
     "output_type": "display_data"
    }
   ],
   "source": [
    "# Task 3: Write two delete queries\n",
    "from sqlalchemy import delete\n",
    "connection = engine.connect()\n",
    "d = delete(ex_table, ex_table.c.age==40)\n",
    "connection.execute(d)\n",
    "d = delete(ex_table, ex_table.c.relationship=='Wifi')\n",
    "connection.execute(d)\n",
    "s = select([ex_table])\n",
    "result = connection.execute(s)\n",
    "display(result.fetchmany(10))\n",
    "connection.close()"
   ]
  },
  {
   "cell_type": "code",
   "execution_count": 6,
   "metadata": {},
   "outputs": [
    {
     "data": {
      "text/plain": [
       "[(50, 'Self-emp-not-inc', 83311, 'Bachelors', 13, 'Married-civ-spouse', 'Exec-managerial', 'Husband', 'White', 'Male', 0, 0, 13, 'United-States', '<=50K'),\n",
       " (53, 'Private', 234721, '11th', 7, 'Married-civ-spouse', 'Handlers-cleaners', 'Husband', 'Black', 'Male', 0, 0, 40, 'United-States', '<=50K'),\n",
       " (49, 'Private', 160187, '9th', 5, 'Married-spouse-absent', 'Other-service', 'Not-in-family', 'Black', 'Female', 0, 0, 16, 'Jamaica', '<=50K'),\n",
       " (52, 'Self-emp-not-inc', 209642, 'HS-grad', 9, 'Married-civ-spouse', 'Exec-managerial', 'Husband', 'White', 'Male', 0, 0, 45, 'United-States', '>50K'),\n",
       " (54, 'Private', 302146, 'HS-grad', 9, 'Separated', 'Other-service', 'Unmarried', 'Black', 'Female', 0, 0, 20, 'United-States', '<=50K'),\n",
       " (59, 'Private', 109015, 'HS-grad', 9, 'Divorced', 'Tech-support', 'Unmarried', 'White', 'Female', 0, 0, 40, 'United-States', '<=50K'),\n",
       " (56, 'Local-gov', 216851, 'Bachelors', 13, 'Married-civ-spouse', 'Tech-support', 'Husband', 'White', 'Male', 0, 0, 40, 'United-States', '>50K'),\n",
       " (54, None, 180211, 'Some-college', 10, 'Married-civ-spouse', None, 'Husband', 'Asian-Pac-Islander', 'Male', 0, 0, 60, 'South', '>50K'),\n",
       " (49, 'Private', 193366, 'HS-grad', 9, 'Married-civ-spouse', 'Craft-repair', 'Husband', 'White', 'Male', 0, 0, 40, 'United-States', '<=50K'),\n",
       " (45, 'Private', 386940, 'Bachelors', 13, 'Divorced', 'Exec-managerial', 'Own-child', 'White', 'Male', 0, 1408, 40, 'United-States', '<=50K')]"
      ]
     },
     "metadata": {},
     "output_type": "display_data"
    }
   ],
   "source": [
    "# Task 4: Write two filter queries\n",
    "from sqlalchemy.sql import select\n",
    "connection = engine.connect()\n",
    "#Select Query 1 for selecting records where age is greater than 40\n",
    "s = select([ex_table], ex_table.c.age>=45)\n",
    "result = connection.execute(s)\n",
    "display(result.fetchmany(10))\n",
    "connection.close()"
   ]
  },
  {
   "cell_type": "code",
   "execution_count": 7,
   "metadata": {},
   "outputs": [
    {
     "data": {
      "text/plain": [
       "[(50, 'Self-emp-not-inc', 83311, 'Bachelors', 13, 'Married-civ-spouse', 'Exec-managerial', 'Husband', 'White', 'Male', 0, 0, 13, 'United-States', '<=50K'),\n",
       " (53, 'Private', 234721, '11th', 7, 'Married-civ-spouse', 'Handlers-cleaners', 'Husband', 'Black', 'Male', 0, 0, 40, 'United-States', '<=50K'),\n",
       " (52, 'Self-emp-not-inc', 209642, 'HS-grad', 9, 'Married-civ-spouse', 'Exec-managerial', 'Husband', 'White', 'Male', 0, 0, 45, 'United-States', '>50K'),\n",
       " (42, 'Private', 159449, 'Bachelors', 13, 'Married-civ-spouse', 'Exec-managerial', 'Husband', 'White', 'Male', 5178, 0, 40, 'United-States', '>50K'),\n",
       " (37, 'Private', 280464, 'Some-college', 10, 'Married-civ-spouse', 'Exec-managerial', 'Husband', 'Black', 'Male', 0, 0, 80, 'United-States', '>50K'),\n",
       " (30, 'State-gov', 141297, 'Bachelors', 13, 'Married-civ-spouse', 'Prof-specialty', 'Husband', 'Asian-Pac-Islander', 'Male', 0, 0, 40, 'India', '>50K'),\n",
       " (34, 'Private', 245487, '7th-8th', 4, 'Married-civ-spouse', 'Transport-moving', 'Husband', 'Amer-Indian-Eskimo', 'Male', 0, 0, 45, 'Mexico', '<=50K'),\n",
       " (38, 'Private', 28887, '11th', 7, 'Married-civ-spouse', 'Sales', 'Husband', 'White', 'Male', 0, 0, 50, 'United-States', '<=50K'),\n",
       " (35, 'Federal-gov', 76845, '9th', 5, 'Married-civ-spouse', 'Farming-fishing', 'Husband', 'Black', 'Male', 0, 0, 40, 'United-States', '<=50K'),\n",
       " (43, 'Private', 117037, '11th', 7, 'Married-civ-spouse', 'Transport-moving', 'Husband', 'White', 'Male', 0, 2042, 40, 'United-States', '<=50K')]"
      ]
     },
     "metadata": {},
     "output_type": "display_data"
    }
   ],
   "source": [
    "# Select Query 2 for selecting records where relationship is Husband\n",
    "connection = engine.connect()\n",
    "s = select([ex_table], ex_table.c.relationship=='Husband')\n",
    "result = connection.execute(s)\n",
    "display(result.fetchmany(10))\n",
    "connection.close()"
   ]
  },
  {
   "cell_type": "code",
   "execution_count": 9,
   "metadata": {},
   "outputs": [
    {
     "name": "stdout",
     "output_type": "stream",
     "text": [
      "\n",
      "Total rows: 29499\n",
      "\n",
      "Column Info:\n",
      "ID, Name, Type, NotNull, DefaultVal, PrimaryKey\n",
      "(0, 'age', 'INTEGER', 0, None, 0)\n",
      "(1, 'workclass', 'TEXT', 0, None, 0)\n",
      "(2, 'fnlwgt', 'INTEGER', 0, None, 0)\n",
      "(3, 'education', 'TEXT', 0, None, 0)\n",
      "(4, 'education-num', 'INTEGER', 0, None, 0)\n",
      "(5, 'marital-status', 'TEXT', 0, None, 0)\n",
      "(6, 'occupation', 'TEXT', 0, None, 0)\n",
      "(7, 'relationship', 'TEXT', 0, None, 0)\n",
      "(8, 'race', 'TEXT', 0, None, 0)\n",
      "(9, 'sex', 'TEXT', 0, None, 0)\n",
      "(10, 'capital-gain', 'INTEGER', 0, None, 0)\n",
      "(11, 'capital-loss', 'INTEGER', 0, None, 0)\n",
      "(12, 'hours-per-week', 'INTEGER', 0, None, 0)\n",
      "(13, 'native-country', 'TEXT', 0, None, 0)\n",
      "(14, 'income', 'TEXT', 0, None, 0)\n"
     ]
    }
   ],
   "source": [
    "# Task 5: Write two function queries\n",
    "\n",
    "import sqlite3\n",
    "\n",
    "#function 1 connects or create database file\n",
    "def connect(sqlite_file):\n",
    "    \"\"\" Make connection to an SQLite database file \"\"\"\n",
    "    conn = sqlite3.connect(sqlite_file)\n",
    "    c = conn.cursor()\n",
    "    return conn, c\n",
    "\n",
    "#function 2 close connection with SQLite database\n",
    "def close(conn):\n",
    "    \"\"\" Commit changes and close connection to the database \"\"\"\n",
    "    conn.close()\n",
    "\n",
    "#function 3 counts total rows\n",
    "def total_rows(cursor, table_name, print_out=False):\n",
    "    \"\"\" Returns the total number of rows in the database \"\"\"\n",
    "    cursor.execute('SELECT COUNT(*) FROM {}'.format(table_name))\n",
    "    count = cursor.fetchall()\n",
    "    if print_out:\n",
    "        print('\\nTotal rows: {}'.format(count[0][0]))\n",
    "    return count[0][0]\n",
    "\n",
    "#function 4 gives table columns information\n",
    "def table_col_info(cursor, table_name, print_out=False):\n",
    "    \"\"\" Returns a list of tuples with column informations:\n",
    "    (id, name, type, notnull, default_value, primary_key)\n",
    "    \"\"\"\n",
    "    cursor.execute('PRAGMA TABLE_INFO({})'.format(table_name))\n",
    "    info = cursor.fetchall()\n",
    "    if print_out:\n",
    "        print(\"\\nColumn Info:\\nID, Name, Type, NotNull, DefaultVal, PrimaryKey\")\n",
    "        for col in info:\n",
    "            print(col)\n",
    "    return info\n",
    "\n",
    "if __name__ == '__main__':\n",
    "    sqlite_file = 'adult.db'\n",
    "    table_name = 'adult_tbl'\n",
    "    conn, c = connect(sqlite_file)                     #function 1  \n",
    "    total_rows(c, table_name, print_out=True)          #function 2\n",
    "    table_col_info(c, table_name, print_out=True)      #function 3\n",
    "    close(conn)  "
   ]
  },
  {
   "cell_type": "code",
   "execution_count": null,
   "metadata": {},
   "outputs": [],
   "source": []
  }
 ],
 "metadata": {
  "kernelspec": {
   "display_name": "Python 3",
   "language": "python",
   "name": "python3"
  },
  "language_info": {
   "codemirror_mode": {
    "name": "ipython",
    "version": 3
   },
   "file_extension": ".py",
   "mimetype": "text/x-python",
   "name": "python",
   "nbconvert_exporter": "python",
   "pygments_lexer": "ipython3",
   "version": "3.6.5"
  }
 },
 "nbformat": 4,
 "nbformat_minor": 2
}
